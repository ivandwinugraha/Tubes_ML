{
  "cells": [
    {
      "cell_type": "markdown",
      "metadata": {
        "id": "view-in-github",
        "colab_type": "text"
      },
      "source": [
        "<a href=\"https://colab.research.google.com/github/ivandwinugraha/Tubes_ML/blob/main/(versi_1)_Kegiatan_Modul_1.ipynb\" target=\"_parent\"><img src=\"https://colab.research.google.com/assets/colab-badge.svg\" alt=\"Open In Colab\"/></a>"
      ]
    },
    {
      "cell_type": "markdown",
      "metadata": {
        "id": "wQBa4hXoxDUd"
      },
      "source": [
        "# **Soal Praktikum Artificial Neural Network**"
      ]
    },
    {
      "cell_type": "markdown",
      "metadata": {
        "id": "06V87X5rVRM2"
      },
      "source": [
        "## Kegiatan 1 **(Individu)** \n",
        "Persentase Penilaian: 70%"
      ]
    },
    {
      "cell_type": "markdown",
      "metadata": {
        "id": "wJ07hws4nWqd"
      },
      "source": [
        "Pada kegiatan ini, buatlah model Neural Network untuk mengklasifikasikan citra penyakit pneumonia. Dataset citra yang digunakan dapat diakses pada laman *https://www.kaggle.com/datasets/paultimothymooney/chest-xray-pneumonia*. Dataset tersebut memiliki dua kategori gambar, yaitu Normal dan Pneumonia, dimana seluruh dataset berjumlah 5.856 data dengan ukuran 1.500 × 1.500 piksel dan format JPEG. "
      ]
    },
    {
      "cell_type": "markdown",
      "metadata": {
        "id": "EWvujKXbkG8x"
      },
      "source": [
        "### 1. Load Data & Preprocessing"
      ]
    },
    {
      "cell_type": "markdown",
      "metadata": {
        "id": "NPCl7xNFkLGx"
      },
      "source": [
        "1. Load dataset menggunakan Kaggle API.\n",
        "2. Unzip dataset yang telah diunduh.\n",
        "3. Buatlah 4 folder baru dengan nama *chest_images* (didalamnya dibuat folder *pneumonia* dan *normal*). Disarankan untuk membuat folder baru didalam folder */content*.\n",
        "4. Pindahkan seluruh dataset pada folder */content/chest_xray/chest_xray/train/PNEUMONIA* ke dalam folder */content/chest_images/pneumonia*.\n",
        "5. Ulangi poin nomor 4 pada folder test dan validation, sesuaikan kembali masing-masing kategori gambar ke dalam folder pneumonia/normal.\n",
        "6. Lakukan splitting ulang dataset pada folder */content/chest_images* menjadi 70% data train dan 30% data validation.\n",
        "7. Gather data train dan validation.\n",
        "8. Cek shape dan banyak dataset pada masing-masing data train dan validation.\n",
        "9. Tampilkan 4 gambar normal dan 4 gambar pneumonia dalam 1 grafik beserta masing-masing labelnya.\n",
        "10. Label Encoder.\n",
        "11. Lakukan proses normalisasi menggunakan ImageDataGenerator.\n",
        "12. Tampilkan hasil sebelum dan sesudah dilakukan normalisasi dengan ImageDataGenerator.\n",
        "\n",
        "\n",
        "\n"
      ]
    },
    {
      "cell_type": "code",
      "source": [
        "# install splitfolders to split dataset\n",
        "! pip install split-folders"
      ],
      "metadata": {
        "colab": {
          "base_uri": "https://localhost:8080/"
        },
        "id": "9uOUsZrnD7Ej",
        "outputId": "89b22f1b-e807-498e-a140-6fb48901cac8"
      },
      "execution_count": 15,
      "outputs": [
        {
          "output_type": "stream",
          "name": "stdout",
          "text": [
            "Looking in indexes: https://pypi.org/simple, https://us-python.pkg.dev/colab-wheels/public/simple/\n",
            "Requirement already satisfied: split-folders in /usr/local/lib/python3.7/dist-packages (0.5.1)\n"
          ]
        }
      ]
    },
    {
      "cell_type": "code",
      "source": [
        "# import all libraries needed\n",
        "from keras.datasets import mnist\n",
        "from tensorflow.keras.utils import to_categorical\n",
        "from keras.models import Sequential\n",
        "from keras.layers import Conv2D\n",
        "from keras.layers import MaxPooling2D\n",
        "from keras.layers import Dense\n",
        "from keras.layers import Flatten\n",
        "from keras.preprocessing.image import ImageDataGenerator\n",
        "import matplotlib.pyplot as plt\n",
        "import numpy as np\n",
        "from sklearn.metrics import classification_report\n",
        "import os\n",
        "import zipfile\n",
        "import shutil\n",
        "import splitfolders\n",
        "import cv2\n",
        "import numpy as np\n",
        "from tensorflow.keras.models import Sequential\n",
        "from tensorflow.keras.layers import InputLayer, Dense, Conv2D, MaxPool2D, Flatten\n",
        "from sklearn.preprocessing import LabelEncoder"
      ],
      "metadata": {
        "id": "kKr3CBTHDw8o"
      },
      "execution_count": 16,
      "outputs": []
    },
    {
      "cell_type": "code",
      "source": [
        "# import all libraries needed\n",
        "from keras.datasets import mnist\n",
        "from tensorflow.keras.utils import to_categorical\n",
        "from keras.models import Sequential\n",
        "from keras.layers import Conv2D\n",
        "from keras.layers import MaxPooling2D\n",
        "from keras.layers import Dense\n",
        "from keras.layers import Flatten\n",
        "from keras.preprocessing.image import ImageDataGenerator\n",
        "import matplotlib.pyplot as plt\n",
        "import numpy as np\n",
        "from sklearn.metrics import classification_report\n",
        "import os\n",
        "import zipfile\n",
        "import shutil\n",
        "import splitfolders\n",
        "import cv2\n",
        "import numpy as np\n",
        "from tensorflow.keras.models import Sequential\n",
        "from tensorflow.keras.layers import InputLayer, Dense, Conv2D, MaxPool2D, Flatten\n",
        "from sklearn.preprocessing import LabelEncoder"
      ],
      "metadata": {
        "id": "RalOuzXgEz6s"
      },
      "execution_count": 17,
      "outputs": []
    },
    {
      "cell_type": "code",
      "source": [
        "! chmod 600 '/content/kaggle.json' "
      ],
      "metadata": {
        "id": "cXevfJJqE6-D"
      },
      "execution_count": 18,
      "outputs": []
    },
    {
      "cell_type": "code",
      "source": [
        "! KAGGLE_CONFIG_DIR=/content/ kaggle datasets download -d paultimothymooney/chest-xray-pneumonia"
      ],
      "metadata": {
        "colab": {
          "base_uri": "https://localhost:8080/"
        },
        "id": "qwqGL4-rGdE6",
        "outputId": "a7d4fbc3-572d-4caf-ef28-651425f9c900"
      },
      "execution_count": 19,
      "outputs": [
        {
          "output_type": "stream",
          "name": "stdout",
          "text": [
            "Downloading chest-xray-pneumonia.zip to /content\n",
            "100% 2.29G/2.29G [00:15<00:00, 153MB/s]\n",
            "100% 2.29G/2.29G [00:15<00:00, 158MB/s]\n"
          ]
        }
      ]
    },
    {
      "cell_type": "code",
      "source": [
        "# extract from zip\n",
        "local_zip = '/content/chest-xray-pneumonia.zip'\n",
        "zip_ref = zipfile.ZipFile(local_zip, 'r')\n",
        "zip_ref.extractall('/content')\n",
        "zip_ref.close()"
      ],
      "metadata": {
        "id": "JTYgWUnjHQie"
      },
      "execution_count": 44,
      "outputs": []
    },
    {
      "cell_type": "code",
      "source": [
        "# create new folder specifically\n",
        "! mkdir '/content/chest_images'\n",
        "! mkdir '/content/chest_images/pneumonia'\n",
        "! mkdir '/content/chest_images/normal'\n",
        "! mkdir '/content/chest_split'"
      ],
      "metadata": {
        "id": "0JpVB9uwHzR4"
      },
      "execution_count": 21,
      "outputs": []
    },
    {
      "cell_type": "code",
      "source": [
        "# move all images\n",
        "source = '/content/chest_xray/chest_xray/train/PNEUMONIA/'\n",
        "destination = '/content/chest_images/pneumonia/'\n",
        "allfiles = os.listdir(source)\n",
        "\n",
        "for f in allfiles:\n",
        "    shutil.move(source + f, destination + f)"
      ],
      "metadata": {
        "id": "whqqjCMbIEqy"
      },
      "execution_count": 22,
      "outputs": []
    },
    {
      "cell_type": "code",
      "source": [
        "# move all images\n",
        "source = '/content/chest_xray/chest_xray/train/NORMAL/'\n",
        "destination = '/content/chest_images/normal/'\n",
        "allfiles = os.listdir(source)\n",
        "\n",
        "for f in allfiles:\n",
        "    shutil.move(source + f, destination + f)"
      ],
      "metadata": {
        "id": "1NJr27rkINfo"
      },
      "execution_count": 23,
      "outputs": []
    },
    {
      "cell_type": "code",
      "source": [
        "# move all images\n",
        "source = '/content/chest_xray/chest_xray/test/PNEUMONIA/'\n",
        "destination = '/content/chest_images/pneumonia/'\n",
        "allfiles = os.listdir(source)\n",
        "\n",
        "for f in allfiles:\n",
        "    shutil.move(source + f, destination + f)"
      ],
      "metadata": {
        "id": "80D8U05ZIT0x"
      },
      "execution_count": 24,
      "outputs": []
    },
    {
      "cell_type": "code",
      "source": [
        "# move all images\n",
        "source = '/content/chest_xray/chest_xray/test/NORMAL/'\n",
        "destination = '/content/chest_images/normal/'\n",
        "allfiles = os.listdir(source)\n",
        "\n",
        "for f in allfiles:\n",
        "    shutil.move(source + f, destination + f)"
      ],
      "metadata": {
        "id": "bjfwQdU7Jc_k"
      },
      "execution_count": 25,
      "outputs": []
    },
    {
      "cell_type": "code",
      "source": [
        "# move all images\n",
        "source = '/content/chest_xray/chest_xray/val/PNEUMONIA/'\n",
        "destination = '/content/chest_images/pneumonia/'\n",
        "allfiles = os.listdir(source)\n",
        "\n",
        "for f in allfiles:\n",
        "    shutil.move(source + f, destination + f)"
      ],
      "metadata": {
        "id": "Mo76YZb2Jm71"
      },
      "execution_count": 26,
      "outputs": []
    },
    {
      "cell_type": "code",
      "source": [
        "# move all images\n",
        "source = '/content/chest_xray/chest_xray/val/NORMAL/'\n",
        "destination = '/content/chest_images/normal/'\n",
        "allfiles = os.listdir(source)\n",
        "\n",
        "for f in allfiles:\n",
        "    shutil.move(source + f, destination + f)"
      ],
      "metadata": {
        "id": "FSAJtschJsZS"
      },
      "execution_count": 27,
      "outputs": []
    },
    {
      "cell_type": "code",
      "source": [
        "# split dataset\n",
        "data_dir = '/content/chest_images'\n",
        "output = '/content/chest_split'\n",
        "splitfolders.ratio(data_dir, output=output, seed=1337, ratio=(.7, .3, .0))"
      ],
      "metadata": {
        "colab": {
          "base_uri": "https://localhost:8080/"
        },
        "id": "P9xvPMnIJ-hs",
        "outputId": "5a085a5c-57af-4b9e-ce51-573da9b8bf2d"
      },
      "execution_count": 28,
      "outputs": [
        {
          "output_type": "stream",
          "name": "stderr",
          "text": [
            "Copying files: 5856 files [00:04, 1254.53 files/s]\n"
          ]
        }
      ]
    },
    {
      "cell_type": "code",
      "source": [
        "# create train, val, test paths\n",
        "base_dir = '/content/chest_split'\n",
        "train_dir = os.path.join(base_dir, 'train')\n",
        "validation_dir = os.path.join(base_dir, 'val')\n",
        "test_dir = os.path.join(base_dir, 'test')\n"
      ],
      "metadata": {
        "id": "xv932ubMKQ0J"
      },
      "execution_count": 29,
      "outputs": []
    },
    {
      "cell_type": "code",
      "source": [
        "# gather train dataset\n",
        "trainX = []\n",
        "trainY = []\n",
        "for r, d, f in os.walk(train_dir):\n",
        "    for file in f:\n",
        "        if \".jpeg\" in file:\n",
        "            imagePath = os.path.join(r, file)\n",
        "            image = cv2.imread(imagePath)\n",
        "            image = cv2.resize(image, (150,150))\n",
        "            trainX.append(image)\n",
        "            label = imagePath.split(os.path.sep)[-2]\n",
        "            trainY.append(label)\n",
        "\n",
        "trainX = np.array(trainX)\n",
        "trainY = np.array(trainY)"
      ],
      "metadata": {
        "id": "oQOvMGGsKX8x"
      },
      "execution_count": 30,
      "outputs": []
    },
    {
      "cell_type": "code",
      "source": [
        "# gather test data\n",
        "testX = []\n",
        "testY = []\n",
        "for r, d, f in os.walk(validation_dir):\n",
        "    for file in f:\n",
        "        if \".jpeg\" in file:\n",
        "            imagePath = os.path.join(r, file)\n",
        "            image = cv2.imread(imagePath)\n",
        "            image = cv2.resize(image, (150,150))\n",
        "            testX.append(image)\n",
        "            label = imagePath.split(os.path.sep)[-2]\n",
        "            testY.append(label)\n",
        "\n",
        "testX = np.array(testX)\n",
        "testY = np.array(testY)"
      ],
      "metadata": {
        "id": "vlHOR0YYKrhG"
      },
      "execution_count": 31,
      "outputs": []
    },
    {
      "cell_type": "code",
      "source": [
        "# gather validation data\n",
        "valX = []\n",
        "valY = []\n",
        "for r, d, f in os.walk(validation_dir):\n",
        "    for file in f:\n",
        "        if \".jpeg\" in file:\n",
        "            imagePath = os.path.join(r, file)\n",
        "            image = cv2.imread(imagePath)\n",
        "            image = cv2.resize(image, (150,150))\n",
        "            valX.append(image)\n",
        "            label = imagePath.split(os.path.sep)[-2]\n",
        "            valY.append(label)\n",
        "\n",
        "valX = np.array(valX)\n",
        "valY = np.array(valY)"
      ],
      "metadata": {
        "id": "nd-Osa5mK7G7"
      },
      "execution_count": 32,
      "outputs": []
    },
    {
      "cell_type": "code",
      "source": [
        "# check shape of each images in train & test dataset\n",
        "print(\"Train Data=\", trainX.shape)\n",
        "print(\"Train Label=\", trainY.shape)\n",
        "print(\"Validation Data=\", valX.shape)\n",
        "print(\"Validation Label=\", valY.shape)"
      ],
      "metadata": {
        "colab": {
          "base_uri": "https://localhost:8080/"
        },
        "id": "Qwh1071QLI5j",
        "outputId": "31ba1899-1254-4ce2-d41c-0b4dc5d8ba88"
      },
      "execution_count": 33,
      "outputs": [
        {
          "output_type": "stream",
          "name": "stdout",
          "text": [
            "Train Data= (4099, 150, 150, 3)\n",
            "Train Label= (4099,)\n",
            "Validation Data= (1755, 150, 150, 3)\n",
            "Validation Label= (1755,)\n"
          ]
        }
      ]
    },
    {
      "cell_type": "code",
      "source": [
        "# label encoder implementation in each train & test label\n",
        "lb = LabelEncoder()\n",
        "trainY = lb.fit_transform(trainY)\n",
        "valY = lb.fit_transform(valY)\n",
        "# testY = lb.fit_transform(testY)"
      ],
      "metadata": {
        "id": "Wo9R5DHNLZBj"
      },
      "execution_count": 34,
      "outputs": []
    },
    {
      "cell_type": "code",
      "source": [
        "# label encoder implementation in each train & test label\n",
        "lb = LabelEncoder()\n",
        "trainY = lb.fit_transform(trainY)\n",
        "valY = lb.fit_transform(valY)\n",
        "# testY = lb.fit_transform(testY)"
      ],
      "metadata": {
        "id": "Pl_haKXsL2gL"
      },
      "execution_count": 35,
      "outputs": []
    },
    {
      "cell_type": "code",
      "source": [
        "# normalize the scale in every images using ImageDataGenerator\n",
        "datagen = ImageDataGenerator(rescale=1.0/255.0)"
      ],
      "metadata": {
        "id": "4_rlTsT-MLuc"
      },
      "execution_count": 36,
      "outputs": []
    },
    {
      "cell_type": "code",
      "source": [
        "# implement ImageDataGenerator in train, test data, & each label\n",
        "train_iterator = datagen.flow(trainX, trainY, batch_size=64)\n",
        "val_iterator = datagen.flow(valX, valY, batch_size=64)\n",
        "print('Batches train=%d, validation=%d' % (len(train_iterator), len(val_iterator)))"
      ],
      "metadata": {
        "colab": {
          "base_uri": "https://localhost:8080/"
        },
        "id": "K0siwicKMSyu",
        "outputId": "72757b34-904b-41cf-b427-eaf0e79ac824"
      },
      "execution_count": 37,
      "outputs": [
        {
          "output_type": "stream",
          "name": "stdout",
          "text": [
            "Batches train=65, validation=28\n"
          ]
        }
      ]
    },
    {
      "cell_type": "code",
      "source": [
        "# check minimum & maximum scale after normalize each images\n",
        "batchX, batchy = train_iterator.next()\n",
        "print('Batch shape=%s, min=%.3f, max=%.3f' % (batchX.shape, batchX.min(), batchX.max()))"
      ],
      "metadata": {
        "colab": {
          "base_uri": "https://localhost:8080/"
        },
        "id": "UTvPJS_LMkgD",
        "outputId": "86092941-c80f-4b7e-f4e4-8e80d66081d8"
      },
      "execution_count": 38,
      "outputs": [
        {
          "output_type": "stream",
          "name": "stdout",
          "text": [
            "Batch shape=(64, 150, 150, 3), min=0.000, max=1.000\n"
          ]
        }
      ]
    },
    {
      "cell_type": "markdown",
      "metadata": {
        "id": "9BvP6U0xzN-X"
      },
      "source": [
        "### 2. Modelling"
      ]
    },
    {
      "cell_type": "markdown",
      "metadata": {
        "id": "M8AU8YcNoRqx"
      },
      "source": [
        "Buatlah arsitektur model dengan kriteria:\n",
        "1. Gunakan 1 layer input dengan ukuran layer input (shape) menjadi 150 x 150 piksel.\n",
        "2. Gunakan 3 hidden layer sesuai dengan analisa masing-masing.\n",
        "3. Lakukan hyperparameter tuning dan gunakan fungsi aktivasi sesuai analisa masing-masing.\n",
        "4. Lakukan proses training minimal 100 epoch."
      ]
    },
    {
      "cell_type": "code",
      "source": [
        "# build a simple ANN model\n",
        "model = Sequential()\n",
        "model.add(InputLayer(input_shape=[150,150,3]))\n",
        "model.add(Flatten())\n",
        "model.add(Dense(128, activation='relu'))\n",
        "model.add(Dense(64, activation='relu'))\n",
        "model.add(Dense(16, activation='relu'))\n",
        "model.add(Dense(1, activation='sigmoid'))\n",
        "model.summary()"
      ],
      "metadata": {
        "colab": {
          "base_uri": "https://localhost:8080/"
        },
        "id": "vN8Bkw5iMuY1",
        "outputId": "699f3702-de8a-4a14-c4b3-9a2cb4c3f938"
      },
      "execution_count": 39,
      "outputs": [
        {
          "output_type": "stream",
          "name": "stdout",
          "text": [
            "Model: \"sequential\"\n",
            "_________________________________________________________________\n",
            " Layer (type)                Output Shape              Param #   \n",
            "=================================================================\n",
            " flatten (Flatten)           (None, 67500)             0         \n",
            "                                                                 \n",
            " dense (Dense)               (None, 128)               8640128   \n",
            "                                                                 \n",
            " dense_1 (Dense)             (None, 64)                8256      \n",
            "                                                                 \n",
            " dense_2 (Dense)             (None, 16)                1040      \n",
            "                                                                 \n",
            " dense_3 (Dense)             (None, 1)                 17        \n",
            "                                                                 \n",
            "=================================================================\n",
            "Total params: 8,649,441\n",
            "Trainable params: 8,649,441\n",
            "Non-trainable params: 0\n",
            "_________________________________________________________________\n"
          ]
        }
      ]
    },
    {
      "cell_type": "code",
      "source": [
        "# compile model\n",
        "model.compile(optimizer='adam', loss='binary_crossentropy', metrics=['accuracy'])"
      ],
      "metadata": {
        "id": "-ejcQnC5M_w4"
      },
      "execution_count": 40,
      "outputs": []
    },
    {
      "cell_type": "code",
      "source": [
        "# training & saving history of every epoch\n",
        "H = model.fit(train_iterator, epochs=100, validation_data=val_iterator)"
      ],
      "metadata": {
        "colab": {
          "base_uri": "https://localhost:8080/"
        },
        "id": "OudP-5o0NFRW",
        "outputId": "ba26189e-fe76-46d5-d201-dae1cbb99c83"
      },
      "execution_count": 41,
      "outputs": [
        {
          "output_type": "stream",
          "name": "stdout",
          "text": [
            "Epoch 1/100\n",
            "65/65 [==============================] - 6s 33ms/step - loss: 1.4842 - accuracy: 0.7314 - val_loss: 0.4038 - val_accuracy: 0.8593\n",
            "Epoch 2/100\n",
            "65/65 [==============================] - 2s 31ms/step - loss: 0.3595 - accuracy: 0.8600 - val_loss: 0.6569 - val_accuracy: 0.7487\n",
            "Epoch 3/100\n",
            "65/65 [==============================] - 2s 31ms/step - loss: 0.2930 - accuracy: 0.8946 - val_loss: 0.1908 - val_accuracy: 0.9214\n",
            "Epoch 4/100\n",
            "65/65 [==============================] - 2s 31ms/step - loss: 0.2121 - accuracy: 0.9205 - val_loss: 0.1744 - val_accuracy: 0.9265\n",
            "Epoch 5/100\n",
            "65/65 [==============================] - 2s 31ms/step - loss: 0.3535 - accuracy: 0.8851 - val_loss: 0.2710 - val_accuracy: 0.8923\n",
            "Epoch 6/100\n",
            "65/65 [==============================] - 2s 32ms/step - loss: 0.2439 - accuracy: 0.9075 - val_loss: 0.1859 - val_accuracy: 0.9373\n",
            "Epoch 7/100\n",
            "65/65 [==============================] - 2s 32ms/step - loss: 0.1789 - accuracy: 0.9288 - val_loss: 0.1605 - val_accuracy: 0.9396\n",
            "Epoch 8/100\n",
            "65/65 [==============================] - 2s 33ms/step - loss: 0.2383 - accuracy: 0.9110 - val_loss: 0.1728 - val_accuracy: 0.9407\n",
            "Epoch 9/100\n",
            "65/65 [==============================] - 2s 35ms/step - loss: 0.2488 - accuracy: 0.9114 - val_loss: 0.3101 - val_accuracy: 0.8838\n",
            "Epoch 10/100\n",
            "65/65 [==============================] - 2s 35ms/step - loss: 0.2555 - accuracy: 0.9039 - val_loss: 0.1593 - val_accuracy: 0.9396\n",
            "Epoch 11/100\n",
            "65/65 [==============================] - 2s 33ms/step - loss: 0.2017 - accuracy: 0.9207 - val_loss: 0.1846 - val_accuracy: 0.9328\n",
            "Epoch 12/100\n",
            "65/65 [==============================] - 2s 33ms/step - loss: 0.1698 - accuracy: 0.9356 - val_loss: 0.1727 - val_accuracy: 0.9328\n",
            "Epoch 13/100\n",
            "65/65 [==============================] - 2s 34ms/step - loss: 0.1665 - accuracy: 0.9332 - val_loss: 0.2176 - val_accuracy: 0.9128\n",
            "Epoch 14/100\n",
            "65/65 [==============================] - 2s 33ms/step - loss: 0.1590 - accuracy: 0.9410 - val_loss: 0.1663 - val_accuracy: 0.9413\n",
            "Epoch 15/100\n",
            "65/65 [==============================] - 2s 33ms/step - loss: 0.1513 - accuracy: 0.9405 - val_loss: 0.1553 - val_accuracy: 0.9413\n",
            "Epoch 16/100\n",
            "65/65 [==============================] - 2s 31ms/step - loss: 0.1452 - accuracy: 0.9463 - val_loss: 0.1964 - val_accuracy: 0.9208\n",
            "Epoch 17/100\n",
            "65/65 [==============================] - 2s 32ms/step - loss: 0.1995 - accuracy: 0.9229 - val_loss: 0.2266 - val_accuracy: 0.9066\n",
            "Epoch 18/100\n",
            "65/65 [==============================] - 2s 32ms/step - loss: 0.1621 - accuracy: 0.9373 - val_loss: 0.1801 - val_accuracy: 0.9385\n",
            "Epoch 19/100\n",
            "65/65 [==============================] - 2s 32ms/step - loss: 0.1478 - accuracy: 0.9463 - val_loss: 0.1667 - val_accuracy: 0.9425\n",
            "Epoch 20/100\n",
            "65/65 [==============================] - 2s 32ms/step - loss: 0.1356 - accuracy: 0.9488 - val_loss: 0.2488 - val_accuracy: 0.9123\n",
            "Epoch 21/100\n",
            "65/65 [==============================] - 2s 32ms/step - loss: 0.1673 - accuracy: 0.9358 - val_loss: 0.2374 - val_accuracy: 0.9140\n",
            "Epoch 22/100\n",
            "65/65 [==============================] - 2s 32ms/step - loss: 0.1457 - accuracy: 0.9483 - val_loss: 0.1601 - val_accuracy: 0.9436\n",
            "Epoch 23/100\n",
            "65/65 [==============================] - 2s 32ms/step - loss: 0.1744 - accuracy: 0.9344 - val_loss: 0.2023 - val_accuracy: 0.9259\n",
            "Epoch 24/100\n",
            "65/65 [==============================] - 2s 33ms/step - loss: 0.1372 - accuracy: 0.9471 - val_loss: 0.1547 - val_accuracy: 0.9436\n",
            "Epoch 25/100\n",
            "65/65 [==============================] - 2s 32ms/step - loss: 0.1463 - accuracy: 0.9463 - val_loss: 0.2606 - val_accuracy: 0.9071\n",
            "Epoch 26/100\n",
            "65/65 [==============================] - 2s 32ms/step - loss: 0.1920 - accuracy: 0.9268 - val_loss: 0.1797 - val_accuracy: 0.9276\n",
            "Epoch 27/100\n",
            "65/65 [==============================] - 2s 33ms/step - loss: 0.1692 - accuracy: 0.9351 - val_loss: 0.2318 - val_accuracy: 0.9140\n",
            "Epoch 28/100\n",
            "65/65 [==============================] - 2s 32ms/step - loss: 0.1443 - accuracy: 0.9449 - val_loss: 0.1621 - val_accuracy: 0.9419\n",
            "Epoch 29/100\n",
            "65/65 [==============================] - 2s 32ms/step - loss: 0.1588 - accuracy: 0.9378 - val_loss: 0.1713 - val_accuracy: 0.9350\n",
            "Epoch 30/100\n",
            "65/65 [==============================] - 2s 32ms/step - loss: 0.1346 - accuracy: 0.9493 - val_loss: 0.1507 - val_accuracy: 0.9459\n",
            "Epoch 31/100\n",
            "65/65 [==============================] - 2s 32ms/step - loss: 0.1663 - accuracy: 0.9349 - val_loss: 0.2330 - val_accuracy: 0.9197\n",
            "Epoch 32/100\n",
            "65/65 [==============================] - 2s 32ms/step - loss: 0.1866 - accuracy: 0.9266 - val_loss: 0.4515 - val_accuracy: 0.8547\n",
            "Epoch 33/100\n",
            "65/65 [==============================] - 2s 32ms/step - loss: 0.1635 - accuracy: 0.9373 - val_loss: 0.1750 - val_accuracy: 0.9402\n",
            "Epoch 34/100\n",
            "65/65 [==============================] - 2s 32ms/step - loss: 0.2027 - accuracy: 0.9158 - val_loss: 0.2151 - val_accuracy: 0.9162\n",
            "Epoch 35/100\n",
            "65/65 [==============================] - 2s 33ms/step - loss: 0.1565 - accuracy: 0.9385 - val_loss: 0.2747 - val_accuracy: 0.8946\n",
            "Epoch 36/100\n",
            "65/65 [==============================] - 2s 32ms/step - loss: 0.2229 - accuracy: 0.9205 - val_loss: 0.1587 - val_accuracy: 0.9413\n",
            "Epoch 37/100\n",
            "65/65 [==============================] - 2s 33ms/step - loss: 0.1302 - accuracy: 0.9522 - val_loss: 0.1863 - val_accuracy: 0.9333\n",
            "Epoch 38/100\n",
            "65/65 [==============================] - 2s 33ms/step - loss: 0.1188 - accuracy: 0.9536 - val_loss: 0.1603 - val_accuracy: 0.9430\n",
            "Epoch 39/100\n",
            "65/65 [==============================] - 2s 34ms/step - loss: 0.1448 - accuracy: 0.9429 - val_loss: 0.1522 - val_accuracy: 0.9436\n",
            "Epoch 40/100\n",
            "65/65 [==============================] - 2s 35ms/step - loss: 0.1182 - accuracy: 0.9556 - val_loss: 0.1585 - val_accuracy: 0.9447\n",
            "Epoch 41/100\n",
            "65/65 [==============================] - 2s 34ms/step - loss: 0.1362 - accuracy: 0.9493 - val_loss: 0.1667 - val_accuracy: 0.9413\n",
            "Epoch 42/100\n",
            "65/65 [==============================] - 2s 34ms/step - loss: 0.1668 - accuracy: 0.9434 - val_loss: 0.1640 - val_accuracy: 0.9350\n",
            "Epoch 43/100\n",
            "65/65 [==============================] - 2s 34ms/step - loss: 0.1187 - accuracy: 0.9561 - val_loss: 0.1587 - val_accuracy: 0.9447\n",
            "Epoch 44/100\n",
            "65/65 [==============================] - 2s 33ms/step - loss: 0.1165 - accuracy: 0.9524 - val_loss: 0.1523 - val_accuracy: 0.9453\n",
            "Epoch 45/100\n",
            "65/65 [==============================] - 2s 33ms/step - loss: 0.1436 - accuracy: 0.9461 - val_loss: 0.1734 - val_accuracy: 0.9396\n",
            "Epoch 46/100\n",
            "65/65 [==============================] - 2s 34ms/step - loss: 0.1312 - accuracy: 0.9517 - val_loss: 0.1819 - val_accuracy: 0.9396\n",
            "Epoch 47/100\n",
            "65/65 [==============================] - 2s 35ms/step - loss: 0.1130 - accuracy: 0.9571 - val_loss: 0.1660 - val_accuracy: 0.9419\n",
            "Epoch 48/100\n",
            "65/65 [==============================] - 2s 35ms/step - loss: 0.1373 - accuracy: 0.9473 - val_loss: 0.1929 - val_accuracy: 0.9350\n",
            "Epoch 49/100\n",
            "65/65 [==============================] - 2s 34ms/step - loss: 0.1253 - accuracy: 0.9527 - val_loss: 0.1743 - val_accuracy: 0.9373\n",
            "Epoch 50/100\n",
            "65/65 [==============================] - 2s 35ms/step - loss: 0.1190 - accuracy: 0.9554 - val_loss: 0.1648 - val_accuracy: 0.9459\n",
            "Epoch 51/100\n",
            "65/65 [==============================] - 2s 35ms/step - loss: 0.1124 - accuracy: 0.9546 - val_loss: 0.1688 - val_accuracy: 0.9407\n",
            "Epoch 52/100\n",
            "65/65 [==============================] - 2s 31ms/step - loss: 0.1029 - accuracy: 0.9607 - val_loss: 0.1630 - val_accuracy: 0.9481\n",
            "Epoch 53/100\n",
            "65/65 [==============================] - 2s 31ms/step - loss: 0.1162 - accuracy: 0.9573 - val_loss: 0.2620 - val_accuracy: 0.9100\n",
            "Epoch 54/100\n",
            "65/65 [==============================] - 2s 33ms/step - loss: 0.1021 - accuracy: 0.9600 - val_loss: 0.1996 - val_accuracy: 0.9442\n",
            "Epoch 55/100\n",
            "65/65 [==============================] - 2s 35ms/step - loss: 0.1206 - accuracy: 0.9541 - val_loss: 0.1565 - val_accuracy: 0.9442\n",
            "Epoch 56/100\n",
            "65/65 [==============================] - 2s 34ms/step - loss: 0.1323 - accuracy: 0.9480 - val_loss: 0.2174 - val_accuracy: 0.9373\n",
            "Epoch 57/100\n",
            "65/65 [==============================] - 2s 34ms/step - loss: 0.1238 - accuracy: 0.9517 - val_loss: 0.1599 - val_accuracy: 0.9419\n",
            "Epoch 58/100\n",
            "65/65 [==============================] - 2s 34ms/step - loss: 0.1081 - accuracy: 0.9590 - val_loss: 0.3477 - val_accuracy: 0.8855\n",
            "Epoch 59/100\n",
            "65/65 [==============================] - 2s 34ms/step - loss: 0.1823 - accuracy: 0.9249 - val_loss: 0.1875 - val_accuracy: 0.9328\n",
            "Epoch 60/100\n",
            "65/65 [==============================] - 2s 34ms/step - loss: 0.1036 - accuracy: 0.9617 - val_loss: 0.1648 - val_accuracy: 0.9413\n",
            "Epoch 61/100\n",
            "65/65 [==============================] - 2s 34ms/step - loss: 0.1212 - accuracy: 0.9539 - val_loss: 0.1672 - val_accuracy: 0.9390\n",
            "Epoch 62/100\n",
            "65/65 [==============================] - 2s 34ms/step - loss: 0.1515 - accuracy: 0.9378 - val_loss: 0.1554 - val_accuracy: 0.9396\n",
            "Epoch 63/100\n",
            "65/65 [==============================] - 2s 34ms/step - loss: 0.1323 - accuracy: 0.9527 - val_loss: 0.1587 - val_accuracy: 0.9419\n",
            "Epoch 64/100\n",
            "65/65 [==============================] - 2s 35ms/step - loss: 0.1003 - accuracy: 0.9593 - val_loss: 0.1568 - val_accuracy: 0.9476\n",
            "Epoch 65/100\n",
            "65/65 [==============================] - 2s 34ms/step - loss: 0.0924 - accuracy: 0.9663 - val_loss: 0.2535 - val_accuracy: 0.9174\n",
            "Epoch 66/100\n",
            "65/65 [==============================] - 2s 34ms/step - loss: 0.1382 - accuracy: 0.9454 - val_loss: 0.1653 - val_accuracy: 0.9419\n",
            "Epoch 67/100\n",
            "65/65 [==============================] - 2s 35ms/step - loss: 0.1011 - accuracy: 0.9593 - val_loss: 0.1740 - val_accuracy: 0.9430\n",
            "Epoch 68/100\n",
            "65/65 [==============================] - 2s 34ms/step - loss: 0.1094 - accuracy: 0.9600 - val_loss: 0.1680 - val_accuracy: 0.9396\n",
            "Epoch 69/100\n",
            "65/65 [==============================] - 2s 34ms/step - loss: 0.2617 - accuracy: 0.9024 - val_loss: 0.1767 - val_accuracy: 0.9339\n",
            "Epoch 70/100\n",
            "65/65 [==============================] - 2s 34ms/step - loss: 0.1078 - accuracy: 0.9610 - val_loss: 0.1607 - val_accuracy: 0.9459\n",
            "Epoch 71/100\n",
            "65/65 [==============================] - 2s 34ms/step - loss: 0.0951 - accuracy: 0.9619 - val_loss: 0.1681 - val_accuracy: 0.9442\n",
            "Epoch 72/100\n",
            "65/65 [==============================] - 2s 34ms/step - loss: 0.0828 - accuracy: 0.9678 - val_loss: 0.1628 - val_accuracy: 0.9442\n",
            "Epoch 73/100\n",
            "65/65 [==============================] - 2s 34ms/step - loss: 0.1016 - accuracy: 0.9605 - val_loss: 0.2319 - val_accuracy: 0.9111\n",
            "Epoch 74/100\n",
            "65/65 [==============================] - 2s 33ms/step - loss: 0.1187 - accuracy: 0.9519 - val_loss: 0.1617 - val_accuracy: 0.9447\n",
            "Epoch 75/100\n",
            "65/65 [==============================] - 2s 34ms/step - loss: 0.1424 - accuracy: 0.9473 - val_loss: 0.1537 - val_accuracy: 0.9430\n",
            "Epoch 76/100\n",
            "65/65 [==============================] - 2s 34ms/step - loss: 0.1142 - accuracy: 0.9541 - val_loss: 0.1821 - val_accuracy: 0.9396\n",
            "Epoch 77/100\n",
            "65/65 [==============================] - 2s 33ms/step - loss: 0.0886 - accuracy: 0.9661 - val_loss: 0.1807 - val_accuracy: 0.9453\n",
            "Epoch 78/100\n",
            "65/65 [==============================] - 2s 32ms/step - loss: 0.1120 - accuracy: 0.9551 - val_loss: 0.1928 - val_accuracy: 0.9379\n",
            "Epoch 79/100\n",
            "65/65 [==============================] - 2s 32ms/step - loss: 0.0978 - accuracy: 0.9622 - val_loss: 0.2489 - val_accuracy: 0.9191\n",
            "Epoch 80/100\n",
            "65/65 [==============================] - 2s 32ms/step - loss: 0.0850 - accuracy: 0.9712 - val_loss: 0.1767 - val_accuracy: 0.9453\n",
            "Epoch 81/100\n",
            "65/65 [==============================] - 2s 31ms/step - loss: 0.0842 - accuracy: 0.9680 - val_loss: 0.1804 - val_accuracy: 0.9436\n",
            "Epoch 82/100\n",
            "65/65 [==============================] - 2s 31ms/step - loss: 0.0947 - accuracy: 0.9632 - val_loss: 0.1715 - val_accuracy: 0.9419\n",
            "Epoch 83/100\n",
            "65/65 [==============================] - 2s 32ms/step - loss: 0.0681 - accuracy: 0.9746 - val_loss: 0.1531 - val_accuracy: 0.9430\n",
            "Epoch 84/100\n",
            "65/65 [==============================] - 2s 33ms/step - loss: 0.0786 - accuracy: 0.9710 - val_loss: 0.2385 - val_accuracy: 0.9254\n",
            "Epoch 85/100\n",
            "65/65 [==============================] - 2s 33ms/step - loss: 0.1016 - accuracy: 0.9583 - val_loss: 0.3042 - val_accuracy: 0.9020\n",
            "Epoch 86/100\n",
            "65/65 [==============================] - 2s 33ms/step - loss: 0.0845 - accuracy: 0.9678 - val_loss: 0.1700 - val_accuracy: 0.9442\n",
            "Epoch 87/100\n",
            "65/65 [==============================] - 2s 32ms/step - loss: 0.1067 - accuracy: 0.9597 - val_loss: 0.1627 - val_accuracy: 0.9459\n",
            "Epoch 88/100\n",
            "65/65 [==============================] - 2s 33ms/step - loss: 0.0971 - accuracy: 0.9622 - val_loss: 0.1829 - val_accuracy: 0.9436\n",
            "Epoch 89/100\n",
            "65/65 [==============================] - 2s 33ms/step - loss: 0.0680 - accuracy: 0.9758 - val_loss: 0.2070 - val_accuracy: 0.9339\n",
            "Epoch 90/100\n",
            "65/65 [==============================] - 2s 33ms/step - loss: 0.0672 - accuracy: 0.9732 - val_loss: 0.2089 - val_accuracy: 0.9419\n",
            "Epoch 91/100\n",
            "65/65 [==============================] - 2s 33ms/step - loss: 0.0739 - accuracy: 0.9741 - val_loss: 0.2552 - val_accuracy: 0.9236\n",
            "Epoch 92/100\n",
            "65/65 [==============================] - 2s 34ms/step - loss: 0.0944 - accuracy: 0.9602 - val_loss: 0.1804 - val_accuracy: 0.9436\n",
            "Epoch 93/100\n",
            "65/65 [==============================] - 2s 32ms/step - loss: 0.1173 - accuracy: 0.9597 - val_loss: 0.1770 - val_accuracy: 0.9447\n",
            "Epoch 94/100\n",
            "65/65 [==============================] - 2s 32ms/step - loss: 0.0642 - accuracy: 0.9780 - val_loss: 0.1768 - val_accuracy: 0.9442\n",
            "Epoch 95/100\n",
            "65/65 [==============================] - 2s 33ms/step - loss: 0.0729 - accuracy: 0.9719 - val_loss: 0.1875 - val_accuracy: 0.9447\n",
            "Epoch 96/100\n",
            "65/65 [==============================] - 2s 33ms/step - loss: 0.0700 - accuracy: 0.9724 - val_loss: 0.2833 - val_accuracy: 0.9088\n",
            "Epoch 97/100\n",
            "65/65 [==============================] - 2s 32ms/step - loss: 0.0887 - accuracy: 0.9661 - val_loss: 0.1602 - val_accuracy: 0.9436\n",
            "Epoch 98/100\n",
            "65/65 [==============================] - 2s 32ms/step - loss: 0.0638 - accuracy: 0.9785 - val_loss: 0.1743 - val_accuracy: 0.9419\n",
            "Epoch 99/100\n",
            "65/65 [==============================] - 2s 33ms/step - loss: 0.1049 - accuracy: 0.9607 - val_loss: 0.1845 - val_accuracy: 0.9350\n",
            "Epoch 100/100\n",
            "65/65 [==============================] - 2s 33ms/step - loss: 0.1012 - accuracy: 0.9617 - val_loss: 0.1729 - val_accuracy: 0.9425\n"
          ]
        }
      ]
    },
    {
      "cell_type": "markdown",
      "metadata": {
        "id": "WyM0OUMaDL6i"
      },
      "source": [
        "### 3. Evaluasi Model"
      ]
    },
    {
      "cell_type": "markdown",
      "metadata": {
        "id": "PUXqXY7jo9bC"
      },
      "source": [
        "1. Plot hasil training model berupa hasil validasi akurasi dan validasi loss.\n",
        "2. Buatlah report klasifikasi beserta dengan keterangan labelnya.\n",
        "4. Tampilkan matriks evaluasi yang lebih bervariasi seperti balanced accuracy, roc, auc, atau yang lainnya. Jelaskan kepada asisten secara lengkap.\n",
        "3. Hasil akurasi model minimal diatas 80%."
      ]
    },
    {
      "cell_type": "code",
      "source": [
        "fig, ax = plt.subplots(1,2)\n",
        "fig.set_size_inches(10,5)\n",
        "\n",
        "metric = ['accuracy', 'loss']\n",
        "for i, m in enumerate(metric):\n",
        "  ax[i].plot(H.history[m])\n",
        "  ax[i].plot(H.history['val_'+ m])\n",
        "  ax[i].set_title('Model {}'.format(m))\n",
        "  ax[i].set_xlabel('epochs')\n",
        "  ax[i].set_ylabel('m')\n",
        "  ax[i].legend(['train', 'validation'])"
      ],
      "metadata": {
        "colab": {
          "base_uri": "https://localhost:8080/",
          "height": 350
        },
        "id": "1bPL8SYrOYKU",
        "outputId": "c7c1df72-a22f-49d1-ef37-cb9f356717f6"
      },
      "execution_count": 42,
      "outputs": [
        {
          "output_type": "display_data",
          "data": {
            "text/plain": [
              "<Figure size 720x360 with 2 Axes>"
            ],
            "image/png": "[encoded data removed]"
          },
          "metadata": {
            "needs_background": "light"
          }
        }
      ]
    },
    {
      "cell_type": "code",
      "source": [
        "from sklearn.metrics import classification_report,confusion_matrix\n",
        "\n",
        "pred=model.predict(testX)\n",
        "arr = (pred > 0.5).astype(np.int)\n",
        "pred=np.array([1 if row>=0.5 else 0 for row in pred])\n",
        "print(classification_report(arr, pred))"
      ],
      "metadata": {
        "colab": {
          "base_uri": "https://localhost:8080/"
        },
        "id": "_NCE4PKkOlSH",
        "outputId": "86c88b0b-501e-4c8a-e87c-77f8eabc565a"
      },
      "execution_count": 43,
      "outputs": [
        {
          "output_type": "stream",
          "name": "stdout",
          "text": [
            "              precision    recall  f1-score   support\n",
            "\n",
            "           0       1.00      1.00      1.00       467\n",
            "           1       1.00      1.00      1.00      1288\n",
            "\n",
            "    accuracy                           1.00      1755\n",
            "   macro avg       1.00      1.00      1.00      1755\n",
            "weighted avg       1.00      1.00      1.00      1755\n",
            "\n"
          ]
        },
        {
          "output_type": "stream",
          "name": "stderr",
          "text": [
            "/usr/local/lib/python3.7/dist-packages/ipykernel_launcher.py:4: DeprecationWarning: `np.int` is a deprecated alias for the builtin `int`. To silence this warning, use `int` by itself. Doing this will not modify any behavior and is safe. When replacing `np.int`, you may wish to use e.g. `np.int64` or `np.int32` to specify the precision. If you wish to review your current use, check the release note link for additional information.\n",
            "Deprecated in NumPy 1.20; for more details and guidance: https://numpy.org/devdocs/release/1.20.0-notes.html#deprecations\n",
            "  after removing the cwd from sys.path.\n"
          ]
        }
      ]
    },
    {
      "cell_type": "markdown",
      "metadata": {
        "id": "-zzfYOy8U4TX"
      },
      "source": [
        "## Kegiatan 2 **(Kelompok)**\n",
        "Persentase Penilaian: 30%"
      ]
    },
    {
      "cell_type": "markdown",
      "metadata": {
        "id": "dWF9sgDBHO5d"
      },
      "source": [
        "### Ketentuan Umum"
      ]
    },
    {
      "cell_type": "markdown",
      "metadata": {
        "id": "oXnADPQpVgv3"
      },
      "source": [
        "1. Bentuk tim yang beranggotakan maksimal 2 orang dan tentukan ketua kelompoknya (ketua kelompok wajib berasal dari kelas yang sama). \n",
        "2. Tentukan tema project yang akan dikerjakan (wajib klasifikasi/prediksi).\n",
        "3. Tentukan judul project tugas kelompok dan informasikan pada asisten untuk di data.\n",
        "4. Carilah dataset yang sesuai dengan judul project kelompok.\n",
        "5. Pastikan dataset yang digunakan memenuhi ketentuan berikut :\n",
        "  * Dataset merupakan dataset citra yang dirujuk (digunakan) pada artikel penelitian bereputasi minimal SINTA 2 atau artikel jurnal internasional minimal Q4 (5 tahun terakhir).\n",
        "  * Wajib melampirkan artikel penelitian yang digunakan.\n",
        "  * Setiap kelompok dilarang memiliki dataset dan artikel rujukan yang sama.\n",
        "6. Buatlah *repository* yang bersifat *public* di dalam GitHub untuk menyimpan project tugas kelompok.\n",
        "7. Tambahkan seluruh anggota kelompok dalam *repository* GitHub sebagai ***colaborator***.\n",
        "8. Lakukan *cloning repository* yang telah anda buat ke komputer lokal masing-masing anggota.\n",
        "9. Buatlah dokumen Excel yang berisikan:\n",
        "  * Nama anggota kelompok.\n",
        "  * Judul project\n",
        "  * Link yang berisi sumber dataset dan judul dataset\n",
        "  * Link yang berisi sumber artikel dan judul artikel. \n",
        "10. Simpan dokumen Excel pada poin 9 ke dalam *repository GitHub* dengan nama `team_details.xlsx`.\n",
        "11. Ketua kelompok membagi jobdesc untuk masing-masing anggota yang didokumentasikan dalam dokumen Excel `sprint_project.xlsx`.\n",
        "12. Jobdesc anggota dapat berupa *database design*, *preprocessing data*, *modelling*, *model inference*, *model evaluation*, *prediksi data*, *frontend web*, *testing*, dll.\n",
        "13. Ketua kelompok membuat jadwal pengerjaan project beserta target penyelesaian project. Simpan dalam dokumen Excel dengan nama `sprint_project.xlsx`.\n",
        "14. Simpan seluruh dokumen dan dataset yang kalian gunakan kedalam *local repository* kemudian lakukan `push` ke `remote repository GitHub`."
      ]
    },
    {
      "cell_type": "markdown",
      "metadata": {
        "id": "7DAyXoO5U3D5"
      },
      "source": []
    },
    {
      "cell_type": "markdown",
      "metadata": {
        "id": "el4WqiZxU4i9"
      },
      "source": [
        "### Ketentuan Wajib"
      ]
    },
    {
      "cell_type": "markdown",
      "metadata": {
        "id": "wUWD9hwKU81j"
      },
      "source": [
        "1. Tulis dokumentasi tugas kelompok dalam file README.md\n",
        "2. Isi data tugas kelompok dalam Google Form [berikut ini](https://docs.google.com/forms/d/e/1FAIpQLSdF5nl3mEAXBh0Bqwe0WcWdGA0Ln_iCwrzHBnC_-avTZ3OMgA/viewform?usp=sf_link).\n",
        "3. Cek daftar dataset seluruh praktikan [disini](https://docs.google.com/spreadsheets/d/1ccVy13h3zSNtzrQx_g26Ckrb8t3jK8peIL5ov0ibCxE/edit?usp=sharing).\n",
        "4. Seluruh data wajib terkumpul maksimal H-1 praktikum.\n",
        "5. Tidak diperbolehkan berganti anggota kelompok selama satu semester berjalan.\n",
        "6. Tidak diperbolehkan mengganti repository selama mengerjakan tugas kelompok.\n",
        "* Penggantian dataset atau jurnal rujukan wajib menginformasikan ke asisten terlebih dahulu.\n",
        "* Pastikan menggunakan akun GitHub pribadi untuk melakukan commit dan push."
      ]
    },
    {
      "cell_type": "markdown",
      "metadata": {
        "id": "3H3jeEFWWD-L"
      },
      "source": [
        "### Penilaian dan Materi Pendukung"
      ]
    },
    {
      "cell_type": "markdown",
      "metadata": {
        "id": "eqIH1HK_WHtZ"
      },
      "source": [
        "**Penilaian**\n",
        "1. Keaktifan dalam tim.\n",
        "2. Kontribusi dalam proyek dan tim.\n",
        "3. Penerapan prinsip kerja Agile (sprint backlog dan report terdokumentasikan dengan baik).\n",
        "4. Kelengkapan dokumen proyek.\n",
        "5. Pendokumentasian proyek \"*clear and clean documentation*\".\n",
        "\n",
        "**Materi Pendukung**\n",
        "* [Project documentation](https://realpython.com/documenting-python-code)\n",
        "* [Github readme](https://docs.github.com/en/github/writing-on-github/getting-started-with-writing-and-formatting-on-github/basic-writing-and-formatting-syntax)\n",
        "* [Sprint backlog](https://www.lucidchart.com/blog/how-to-develop-a-product-backlog-in-agile)"
      ]
    }
  ],
  "metadata": {
    "accelerator": "GPU",
    "colab": {
      "collapsed_sections": [
        "9BvP6U0xzN-X",
        "WyM0OUMaDL6i",
        "dWF9sgDBHO5d",
        "3H3jeEFWWD-L"
      ],
      "provenance": [],
      "include_colab_link": true
    },
    "gpuClass": "standard",
    "kernelspec": {
      "display_name": "Python 3 (ipykernel)",
      "language": "python",
      "name": "python3"
    },
    "language_info": {
      "codemirror_mode": {
        "name": "ipython",
        "version": 3
      },
      "file_extension": ".py",
      "mimetype": "text/x-python",
      "name": "python",
      "nbconvert_exporter": "python",
      "pygments_lexer": "ipython3",
      "version": "3.7.11"
    }
  },
  "nbformat": 4,
  "nbformat_minor": 0
}